{
  "nbformat": 4,
  "nbformat_minor": 0,
  "metadata": {
    "colab": {
      "name": "COVID-19",
      "provenance": [],
      "collapsed_sections": []
    },
    "kernelspec": {
      "name": "python3",
      "display_name": "Python 3"
    }
  },
  "cells": [
    {
      "cell_type": "markdown",
      "metadata": {
        "id": "idls-2aPMOTf",
        "colab_type": "text"
      },
      "source": [
        "**IMPORTANDO BIBLIOTECAS**"
      ]
    },
    {
      "cell_type": "code",
      "metadata": {
        "id": "CfX_kitusfQD",
        "colab_type": "code",
        "colab": {}
      },
      "source": [
        "import numpy as np\n",
        "import pandas as pd"
      ],
      "execution_count": 0,
      "outputs": []
    },
    {
      "cell_type": "markdown",
      "metadata": {
        "id": "nZga11HkZZPs",
        "colab_type": "text"
      },
      "source": [
        "**FUNÇÕES AUXILIARES**"
      ]
    },
    {
      "cell_type": "code",
      "metadata": {
        "id": "TGSsDLmmfab_",
        "colab_type": "code",
        "colab": {}
      },
      "source": [
        "def somar_datas(dataset):\n",
        "\n",
        "  dataset = dataset.copy()\n",
        "\n",
        "  dataset = np.sum(dataset.iloc[:,4:dataset.shape[1]])\n",
        "\n",
        "  dataset.index = pd.DatetimeIndex(dataset.index)\n",
        "\n",
        "  return dataset"
      ],
      "execution_count": 0,
      "outputs": []
    },
    {
      "cell_type": "code",
      "metadata": {
        "id": "LnLG_z4eU9y4",
        "colab_type": "code",
        "colab": {}
      },
      "source": [
        "def novos_casos(dataset):\n",
        "\n",
        "  dataset = dataset.copy()\n",
        "\n",
        "  for linha in range(len(dataset.values)):\n",
        "    for coluna in range(dataset.values[linha].size - 1, 4, -1):                \n",
        "        dataset._set_value(linha, coluna, dataset.values[linha][coluna] \n",
        "                           - dataset.values[linha][coluna-1], True)\n",
        "\n",
        "  return dataset"
      ],
      "execution_count": 0,
      "outputs": []
    },
    {
      "cell_type": "markdown",
      "metadata": {
        "id": "wOdK4DeRKpMh",
        "colab_type": "text"
      },
      "source": [
        "**CARREGANDO DADOS DO COVID-19**"
      ]
    },
    {
      "cell_type": "code",
      "metadata": {
        "id": "qTU1FUouYTB0",
        "colab_type": "code",
        "colab": {}
      },
      "source": [
        "confirmados = pd.read_csv('https://raw.githubusercontent.com/CSSEGISandData/COVID-19/master/csse_covid_19_data/csse_covid_19_time_series/time_series_19-covid-Confirmed.csv')\n",
        "recuperados = pd.read_csv('https://raw.githubusercontent.com/CSSEGISandData/COVID-19/master/csse_covid_19_data/csse_covid_19_time_series/time_series_19-covid-Recovered.csv')\n",
        "mortes = pd.read_csv('https://raw.githubusercontent.com/CSSEGISandData/COVID-19/master/csse_covid_19_data/csse_covid_19_time_series/time_series_19-covid-Deaths.csv')"
      ],
      "execution_count": 0,
      "outputs": []
    },
    {
      "cell_type": "code",
      "metadata": {
        "id": "z-NQ5anVjPaa",
        "colab_type": "code",
        "colab": {}
      },
      "source": [
        "pais = 'Brazil'\n",
        "confirmados = confirmados[confirmados['Country/Region'] == pais]\n",
        "recuperados = recuperados[recuperados['Country/Region'] == pais]\n",
        "mortes = mortes[mortes['Country/Region'] == pais]"
      ],
      "execution_count": 0,
      "outputs": []
    },
    {
      "cell_type": "markdown",
      "metadata": {
        "id": "r4NGfBGYvtyr",
        "colab_type": "text"
      },
      "source": [
        "**CASOS CONFIRMADOS DO COVID-19**"
      ]
    },
    {
      "cell_type": "code",
      "metadata": {
        "id": "WbkugGMyv71G",
        "colab_type": "code",
        "outputId": "44bad3bc-8f9a-430f-b901-05174ec0c85d",
        "colab": {
          "base_uri": "https://localhost:8080/",
          "height": 317
        }
      },
      "source": [
        "df = pd.concat([somar_datas(novos_casos(confirmados)), somar_datas(confirmados)], axis=1)\n",
        "df.columns = (['novos casos', 'acumulado'])\n",
        "df.plot()"
      ],
      "execution_count": 6,
      "outputs": [
        {
          "output_type": "execute_result",
          "data": {
            "text/plain": [
              "<matplotlib.axes._subplots.AxesSubplot at 0x7f820499be80>"
            ]
          },
          "metadata": {
            "tags": []
          },
          "execution_count": 6
        },
        {
          "output_type": "display_data",
          "data": {
            "image/png": "[encoded data removed]",
            "text/plain": [
              "<Figure size 432x288 with 1 Axes>"
            ]
          },
          "metadata": {
            "tags": []
          }
        }
      ]
    },
    {
      "cell_type": "markdown",
      "metadata": {
        "id": "p-GOoiETLYD_",
        "colab_type": "text"
      },
      "source": [
        "**CASOS RECUPERADOS DO COVID-19**"
      ]
    },
    {
      "cell_type": "code",
      "metadata": {
        "id": "yfq4rcl3Lk7Q",
        "colab_type": "code",
        "colab": {
          "base_uri": "https://localhost:8080/",
          "height": 317
        },
        "outputId": "b19f2afb-c603-4cae-cd5d-34fd37ce1b6f"
      },
      "source": [
        "df = pd.concat([somar_datas(novos_casos(recuperados)), somar_datas(recuperados)], axis=1)\n",
        "df.columns = (['novos casos', 'acumulado'])\n",
        "df.plot()"
      ],
      "execution_count": 7,
      "outputs": [
        {
          "output_type": "execute_result",
          "data": {
            "text/plain": [
              "<matplotlib.axes._subplots.AxesSubplot at 0x7f82048dceb8>"
            ]
          },
          "metadata": {
            "tags": []
          },
          "execution_count": 7
        },
        {
          "output_type": "display_data",
          "data": {
            "image/png": "[encoded data removed]",
            "text/plain": [
              "<Figure size 432x288 with 1 Axes>"
            ]
          },
          "metadata": {
            "tags": []
          }
        }
      ]
    },
    {
      "cell_type": "markdown",
      "metadata": {
        "id": "VBqVXLseKV9d",
        "colab_type": "text"
      },
      "source": [
        "**MORTES CONFIRMADAS DO COVID-19**"
      ]
    },
    {
      "cell_type": "code",
      "metadata": {
        "id": "XqTqKJgNKdev",
        "colab_type": "code",
        "colab": {
          "base_uri": "https://localhost:8080/",
          "height": 317
        },
        "outputId": "9a8000b7-9a48-4bbe-f139-bed03534d7e0"
      },
      "source": [
        "df = pd.concat([somar_datas(novos_casos(mortes)), somar_datas(mortes)], axis=1)\n",
        "df.columns = (['novos casos', 'acumulado'])\n",
        "df.plot()"
      ],
      "execution_count": 8,
      "outputs": [
        {
          "output_type": "execute_result",
          "data": {
            "text/plain": [
              "<matplotlib.axes._subplots.AxesSubplot at 0x7f820311a9b0>"
            ]
          },
          "metadata": {
            "tags": []
          },
          "execution_count": 8
        },
        {
          "output_type": "display_data",
          "data": {
            "image/png": "[encoded data removed]",
            "text/plain": [
              "<Figure size 432x288 with 1 Axes>"
            ]
          },
          "metadata": {
            "tags": []
          }
        }
      ]
    },
    {
      "cell_type": "markdown",
      "metadata": {
        "id": "tp3psHuQd3sP",
        "colab_type": "text"
      },
      "source": [
        "**POSSÍVEIS TRANSMISSORES DO COVID-19**"
      ]
    },
    {
      "cell_type": "code",
      "metadata": {
        "id": "UNZZ6I-heDIk",
        "colab_type": "code",
        "colab": {
          "base_uri": "https://localhost:8080/",
          "height": 317
        },
        "outputId": "fdb420ec-5df4-40e9-a9fa-86ec3f348274"
      },
      "source": [
        "transmissores = somar_datas(confirmados) - (somar_datas(recuperados) + somar_datas(mortes))\n",
        "transmissores.plot()"
      ],
      "execution_count": 9,
      "outputs": [
        {
          "output_type": "execute_result",
          "data": {
            "text/plain": [
              "<matplotlib.axes._subplots.AxesSubplot at 0x7f8202f5e9e8>"
            ]
          },
          "metadata": {
            "tags": []
          },
          "execution_count": 9
        },
        {
          "output_type": "display_data",
          "data": {
            "image/png": "[encoded data removed]",
            "text/plain": [
              "<Figure size 432x288 with 1 Axes>"
            ]
          },
          "metadata": {
            "tags": []
          }
        }
      ]
    }
  ]
}
